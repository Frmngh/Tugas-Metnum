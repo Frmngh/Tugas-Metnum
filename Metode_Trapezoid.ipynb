{
  "nbformat": 4,
  "nbformat_minor": 0,
  "metadata": {
    "colab": {
      "provenance": [],
      "authorship_tag": "ABX9TyMICCM2z0Jhago0cXLjjQs7",
      "include_colab_link": true
    },
    "kernelspec": {
      "name": "python3",
      "display_name": "Python 3"
    },
    "language_info": {
      "name": "python"
    }
  },
  "cells": [
    {
      "cell_type": "markdown",
      "metadata": {
        "id": "view-in-github",
        "colab_type": "text"
      },
      "source": [
        "<a href=\"https://colab.research.google.com/github/Frmngh/Tugas-Metnum-Trapezoid/blob/main/Metode_Trapezoid.ipynb\" target=\"_parent\"><img src=\"https://colab.research.google.com/assets/colab-badge.svg\" alt=\"Open In Colab\"/></a>"
      ]
    },
    {
      "cell_type": "markdown",
      "source": [
        "Firman Gani Heriansyah - 21120122130043 - Kelas C"
      ],
      "metadata": {
        "id": "rHBuH1VFJX-i"
      }
    },
    {
      "cell_type": "markdown",
      "source": [
        "Metode Trapezoid"
      ],
      "metadata": {
        "id": "fZETAYuiJoD4"
      }
    },
    {
      "cell_type": "code",
      "source": [
        "import numpy as np\n",
        "import time\n",
        "\n",
        "# Fungsi untuk dihitung integralnya\n",
        "def f(x):\n",
        "    return 4 / (1 + x**2)\n",
        "\n",
        "# Metode trapezoid\n",
        "def trapezoid_integral(a, b, N):\n",
        "    h = (b - a) / N\n",
        "    x = np.linspace(a, b, N + 1)\n",
        "    y = f(x)\n",
        "    integral = (h / 2) * (y[0] + 2 * np.sum(y[1:N]) + y[N])\n",
        "    return integral\n",
        "\n",
        "# Menghitung galat RMS\n",
        "def calculate_rms_error(estimated_pi, true_pi):\n",
        "    return np.sqrt((estimated_pi - true_pi)**2)\n",
        "\n",
        "# Pengujian dengan variasi N\n",
        "def run_tests():\n",
        "    a = 0\n",
        "    b = 1\n",
        "    true_pi = 3.14159265358979323846\n",
        "    N_values = [10, 100, 1000, 10000]\n",
        "    results = []\n",
        "\n",
        "    for N in N_values:\n",
        "        start_time = time.time()\n",
        "        estimated_pi = trapezoid_integral(a, b, N)\n",
        "        execution_time = time.time() - start_time\n",
        "        rms_error = calculate_rms_error(estimated_pi, true_pi)\n",
        "        results.append((N, estimated_pi, rms_error, execution_time))\n",
        "\n",
        "    return results\n",
        "\n",
        "# Pengujian\n",
        "results = run_tests()\n",
        "\n",
        "# Cetak hasil pengujian\n",
        "for N, estimated_pi, rms_error, execution_time in results:\n",
        "    print(f\"N: {N}, Estimated Pi: {estimated_pi}, RMS Error: {rms_error}, Execution Time: {execution_time} seconds\")\n"
      ],
      "metadata": {
        "colab": {
          "base_uri": "https://localhost:8080/"
        },
        "id": "up9z9fcTJk_J",
        "outputId": "80169dfc-24b8-40fa-ac8c-bda5ea1d7969"
      },
      "execution_count": null,
      "outputs": [
        {
          "output_type": "stream",
          "name": "stdout",
          "text": [
            "N: 10, Estimated Pi: 3.1399259889071587, RMS Error: 0.0016666646826344333, Execution Time: 0.00021409988403320312 seconds\n",
            "N: 100, Estimated Pi: 3.141575986923129, RMS Error: 1.6666666664111318e-05, Execution Time: 7.557868957519531e-05 seconds\n",
            "N: 1000, Estimated Pi: 3.141592486923127, RMS Error: 1.6666666624587378e-07, Execution Time: 6.842613220214844e-05 seconds\n",
            "N: 10000, Estimated Pi: 3.1415926519231263, RMS Error: 1.666666804567285e-09, Execution Time: 0.00013947486877441406 seconds\n"
          ]
        }
      ]
    }
  ]
}